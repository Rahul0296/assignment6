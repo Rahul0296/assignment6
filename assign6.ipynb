{
 "cells": [
  {
   "cell_type": "code",
   "execution_count": 5,
   "id": "96942560-c6cc-4453-80a1-f0122e874f90",
   "metadata": {},
   "outputs": [],
   "source": [
    "#1. Explain Class and Object with respect to Object-Oriented Programming. Give a suitable example.\n",
    "\n",
    "\"\"\"Classes and objects are the two main components of Object-Oriented Programming (OOP).\n",
    "\n",
    "A class is a blueprint that defines the properties and behavior of objects. It acts as a template for creating objects, which are instances of the class. For example, a Person class might have properties such as name, age, and address, and behaviors such as walking, talking, and eating.\n",
    "\n",
    "An object, on the other hand, is a specific instance of a class. It is created from a class and has its own unique set of attributes (data) and methods (functions). For example, a person named John Doe would be an object of the Person class, with the attributes name='John Doe', age=30, and address='123 Main St.'.\n",
    "\n",
    "Classes and objects in OOP are used to encapsulate data and behavior into a single, reusable unit. This promotes code reuse, modularity, and abstraction, making it easier to understand and maintain complex programs.\n",
    "\n",
    "Here's a simple implementation of the Person class in Python:\"\"\"\n",
    "\n",
    "class Person:\n",
    "    def __init__(self, name, age, address):\n",
    "        self.name = name\n",
    "        self.age = age\n",
    "        self.address = address\n",
    "    \n",
    "    def walk(self):\n",
    "        print(f\"{self.name} is walking.\")\n",
    "    \n",
    "    def talk(self):\n",
    "        print(f\"{self.name} is talking.\")\n",
    "    \n",
    "    def eat(self):\n",
    "        print(f\"{self.name} is eating.\")\n"
   ]
  },
  {
   "cell_type": "code",
   "execution_count": 6,
   "id": "925c8d68-3d9e-4464-8a2b-aa1a02299fed",
   "metadata": {},
   "outputs": [
    {
     "name": "stdout",
     "output_type": "stream",
     "text": [
      "John Doe\n",
      "28\n",
      "John Doe is walking.\n",
      "Jane Doe is talking.\n"
     ]
    }
   ],
   "source": [
    "john_doe = Person(\"John Doe\", 30, \"123 Main St.\")\n",
    "jane_doe = Person(\"Jane Doe\", 28, \"456 Main St.\")\n",
    "\n",
    "# Accessing object attributes\n",
    "print(john_doe.name)  # Output: John Doe\n",
    "print(jane_doe.age)  # Output: 28\n",
    "\n",
    "# Calling object methods\n",
    "john_doe.walk()  # Output: John Doe is walking.\n",
    "jane_doe.talk()  # Output: Jane Doe is talking.\n"
   ]
  },
  {
   "cell_type": "code",
   "execution_count": null,
   "id": "7af9610e-2833-4bfa-ac98-a1962c833e5e",
   "metadata": {},
   "outputs": [],
   "source": [
    "#2. Name the four pillars of OOPs. \n",
    "\n",
    "\"\"\"The four pillars of Object-Oriented Programming (OOP) are:\n",
    "\n",
    "1) Encapsulation: It refers to the wrapping up of data and functions into a single unit called an object. This protects the data from outside interference and accidental modification.\n",
    "\n",
    "2) Abstraction: It refers to the act of hiding the implementation details and showing only the necessary information to the user. This helps to reduce the complexity of the code and makes it easier to understand.\n",
    "\n",
    "3) Inheritance: It refers to the process of creating a new class by reusing the properties and methods of an existing class. This helps in reducing the code redundancy and improving the code efficiency.\n",
    "\n",
    "4) Polymorphism: It refers to the ability of an object to take on multiple forms. Polymorphism allows different objects to respond differently to the same method call, based on their properties and data types. This results in more versatile and flexible code.\n",
    "\n",
    "\n",
    "\n",
    "\n"
   ]
  },
  {
   "cell_type": "code",
   "execution_count": 8,
   "id": "045e83af-29f0-42ee-89ee-4f1f24980f93",
   "metadata": {},
   "outputs": [
    {
     "name": "stdout",
     "output_type": "stream",
     "text": [
      "Toyota\n",
      "Camry\n",
      "2020\n"
     ]
    }
   ],
   "source": [
    "#3.  Explain why the __init__() function is used. Give a suitable example. \n",
    "\n",
    "\"\"\"The __init__() function in Python is a special method that is automatically executed when an object of the class \n",
    "is created. It is used to initialize the object's attributes,i.e., to give initial values to the object's data members.\n",
    "The __init__() function is defined within a class and is used to set the default values for the object's properties \n",
    "when it is created.\n",
    "\n",
    "The syntax for the __init__() method is:\"\"\"\n",
    "\n",
    "#def __init__(self, parameter1, parameter2, ...):\n",
    " #   self.attribute1 = parameter1\n",
    "#    self.attribute2 = parameter2\n",
    "\n",
    "\"\"\"Here, self is a reference to the current object and parameter1, parameter2, etc. are the parameters passed to the method\n",
    "when the object is created. The values of these parameters are assigned to the object's attributes within the __init__()\n",
    "method.\"\"\"\n",
    "\n",
    "class Car:\n",
    "    def __init__(self, make, model, year):\n",
    "        self.make = make\n",
    "        self.model = model\n",
    "        self.year = year\n",
    "\n",
    "my_car = Car(\"Toyota\", \"Camry\", 2020)\n",
    "print(my_car.make)\n",
    "print(my_car.model)\n",
    "print(my_car.year)\n",
    "\n"
   ]
  },
  {
   "cell_type": "code",
   "execution_count": 9,
   "id": "1a8f78e2-90b6-4d0b-b6af-d4943cc59efa",
   "metadata": {},
   "outputs": [
    {
     "name": "stdout",
     "output_type": "stream",
     "text": [
      "Name: John, Age: 30\n"
     ]
    }
   ],
   "source": [
    "#4. Why self is used in OOPs? \n",
    "\n",
    "\"\"\"In object-oriented programming, self is a reference to the current instance of a class. It is used to access instance \n",
    "variables, instance methods and other attributes of a class. By using self keyword, the instance attributes can be \n",
    "accessed and modified from within the class. It is used as the first argument in every method defined in a class and is \n",
    "automatically passed by Python when an instance method is called.\n",
    "\n",
    "For example, consider a class named Person with instance variables name and age:\"\"\"\n",
    "\n",
    "class Person:\n",
    "    def __init__(self, name, age):\n",
    "        self.name = name\n",
    "        self.age = age\n",
    "\n",
    "    def print_details(self):\n",
    "        print(f\"Name: {self.name}, Age: {self.age}\")\n",
    "\n",
    "person = Person(\"John\", 30)\n",
    "person.print_details()\n",
    "\n",
    "\n"
   ]
  },
  {
   "cell_type": "code",
   "execution_count": 10,
   "id": "74ea1e97-26c5-4635-8859-3202152e6c49",
   "metadata": {},
   "outputs": [
    {
     "name": "stdout",
     "output_type": "stream",
     "text": [
      "dog\n",
      "Bark\n"
     ]
    }
   ],
   "source": [
    "#5. What is inheritance? Give an example for each type of inheritance. \n",
    "\n",
    "\"\"\"Inheritance is a mechanism in Object-Oriented Programming where a new class is created based on an existing class. The new class inherits the attributes and methods of the existing class, which helps to reuse the code and reduce the complexity of the program. There are several types of inheritance:\n",
    "\n",
    "1) Single Inheritance: When a derived class inherits from a single base class, it is called Single Inheritance.\n",
    "Example:\"\"\"\n",
    "\n",
    "class Animal:\n",
    "    def __init__(self, name):\n",
    "        self.name = name\n",
    "\n",
    "    def sound(self):\n",
    "        return \"Animal Sound\"\n",
    "\n",
    "class Dog(Animal):\n",
    "    def sound(self):\n",
    "        return \"Bark\"\n",
    "\n",
    "dog = Dog(\"dog\")\n",
    "print(dog.name)\n",
    "print(dog.sound())\n"
   ]
  },
  {
   "cell_type": "code",
   "execution_count": 13,
   "id": "7e80dcfd-c0a7-4ed9-8fb4-1d7199cfefd4",
   "metadata": {},
   "outputs": [
    {
     "name": "stdout",
     "output_type": "stream",
     "text": [
      "dog\n",
      "Canine\n",
      "Bark\n"
     ]
    }
   ],
   "source": [
    "\"\"\"Multiple Inheritance: When a derived class inherits from multiple base classes, it is called Multiple Inheritance.\n",
    "Example:\"\"\"\n",
    "class Animal:\n",
    "    def __init__(self, name):\n",
    "        self.name = name\n",
    "\n",
    "    def sound(self):\n",
    "        return \"Animal Sound\"\n",
    "\n",
    "class Mammal(Animal):\n",
    "    def __init__(self, name, species):\n",
    "        Animal.__init__(self, name)\n",
    "        self.species = species\n",
    "\n",
    "class Dog(Mammal):\n",
    "    def sound(self):\n",
    "        return \"Bark\"\n",
    "\n",
    "dog = Dog(\"dog\", \"Canine\")\n",
    "print(dog.name)\n",
    "print(dog.species)\n",
    "print(dog.sound())"
   ]
  },
  {
   "cell_type": "code",
   "execution_count": 14,
   "id": "616f8d3f-863a-4368-a0be-e2fc94774c0a",
   "metadata": {},
   "outputs": [
    {
     "name": "stdout",
     "output_type": "stream",
     "text": [
      "dog\n",
      "Bark\n",
      "cat\n",
      "Meow\n"
     ]
    }
   ],
   "source": [
    "\"\"\"Hierarchical Inheritance: When multiple derived classes inherit from a single base class, it is called Hierarchical \n",
    "Inheritance.\"\"\"\n",
    "\n",
    "class Animal:\n",
    "    def __init__(self, name):\n",
    "        self.name = name\n",
    "\n",
    "    def sound(self):\n",
    "        return \"Animal Sound\"\n",
    "\n",
    "class Dog(Animal):\n",
    "    def sound(self):\n",
    "        return \"Bark\"\n",
    "\n",
    "class Cat(Animal):\n",
    "    def sound(self):\n",
    "        return \"Meow\"\n",
    "\n",
    "dog = Dog(\"dog\")\n",
    "print(dog.name)\n",
    "print(dog.sound())\n",
    "\n",
    "cat = Cat(\"cat\")\n",
    "print(cat.name)\n",
    "print(cat.sound())\n",
    "\n"
   ]
  },
  {
   "cell_type": "code",
   "execution_count": null,
   "id": "639a2223-ba42-4ce3-a1ff-66713cd27bfa",
   "metadata": {},
   "outputs": [],
   "source": []
  }
 ],
 "metadata": {
  "kernelspec": {
   "display_name": "Python 3 (ipykernel)",
   "language": "python",
   "name": "python3"
  },
  "language_info": {
   "codemirror_mode": {
    "name": "ipython",
    "version": 3
   },
   "file_extension": ".py",
   "mimetype": "text/x-python",
   "name": "python",
   "nbconvert_exporter": "python",
   "pygments_lexer": "ipython3",
   "version": "3.10.8"
  }
 },
 "nbformat": 4,
 "nbformat_minor": 5
}
